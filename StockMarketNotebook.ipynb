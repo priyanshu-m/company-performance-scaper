{
 "cells": [
  {
   "cell_type": "code",
   "execution_count": 1,
   "metadata": {},
   "outputs": [],
   "source": [
    "import numpy as np \n",
    "import pandas as pd \n",
    "import requests\n",
    "from bs4 import BeautifulSoup\n",
    "import matplotlib.pyplot as plt\n",
    "import seaborn as sns\n",
    "import json\n",
    "from IPython.core.display import HTML\n",
    "from fastnumbers import isfloat \n",
    "from fastnumbers import fast_float\n",
    "from multiprocessing.dummy import Pool as ThreadPool \n",
    "\n",
    "\n",
    "sns.set_style('whitegrid')\n",
    "%matplotlib inline\n",
    "from IPython.core.interactiveshell import InteractiveShell\n",
    "InteractiveShell.ast_node_interactivity = \"all\""
   ]
  },
  {
   "cell_type": "markdown",
   "metadata": {},
   "source": [
    "Utility Function for Data Type Conversions"
   ]
  },
  {
   "cell_type": "code",
   "execution_count": 2,
   "metadata": {},
   "outputs": [],
   "source": [
    "def ffloat(string):\n",
    "    if string is None:\n",
    "        return np.nan\n",
    "    if type(string) == float or type(string) == np.float64:\n",
    "        return string\n",
    "    if type(string)==int or type(string)==np.int64:\n",
    "        return string\n",
    "    \n",
    "    return fast_float(string.split(\" \")[0].replace(',','').replace('%',''),default=np.nan)"
   ]
  },
  {
   "cell_type": "code",
   "execution_count": 3,
   "metadata": {},
   "outputs": [],
   "source": [
    "def ffloat_list(string_list):\n",
    "    return list(map(ffloat,string_list))"
   ]
  },
  {
   "cell_type": "code",
   "execution_count": 4,
   "metadata": {},
   "outputs": [],
   "source": [
    "def remove_multiple_spaces(string):\n",
    "    if type(string) == str:\n",
    "        return ' '.join(string.split())\n",
    "    return string"
   ]
  },
  {
   "cell_type": "code",
   "execution_count": 2,
   "metadata": {},
   "outputs": [
    {
     "name": "stdin",
     "output_type": "stream",
     "text": [
      "Enter Company Symbol AMD\n"
     ]
    }
   ],
   "source": [
    "## User Input for NASDAQ_Symbol\n",
    "\n",
    "NASDAQ_Symbol = input(\"Enter Company Symbol\")\n",
    "response = requests.get(f\"https://finance.yahoo.com/quote/{NASDAQ_Symbol}\", timeout=240)"
   ]
  },
  {
   "cell_type": "markdown",
   "metadata": {},
   "source": [
    "## Company Address and Website"
   ]
  },
  {
   "cell_type": "code",
   "execution_count": 4,
   "metadata": {},
   "outputs": [
    {
     "data": {
      "text/plain": [
       "'<!DOCTYPE html>\\n<html lang=\"en-us\">\\n <head>\\n  <meta content=\"text/html; charset=utf-8\" http-equiv=\"content-type\"/>\\n  <meta charset=\"utf-8\"/>\\n  <title>\\n   Yahoo\\n  </title>\\n  <meta content=\"width=device-width,initial-scale=1,minimal-ui\" name=\"viewport\"/>\\n  <meta content=\"IE=edge,chrome=1\" http-equiv=\"X-UA-Compatible\"/>\\n  <style>\\n   html {\\n      height: 100%;\\n  }\\n  body {\\n      background: #fafafc url(https://s.yimg.com/nn/img/sad-panda-201402200631.png) 50% 50%;\\n      background-size: cover;\\n      height: 100%;\\n      text-align: center;\\n      font: 300 18px \"helvetica neue\", helvetica, verdana, tahoma, arial, sans-serif;\\n  }\\n  table {\\n      height: 100%;\\n      width: 100%;\\n      table-layout: fixed;\\n      border-collapse: collapse;\\n      border-spacing: 0;\\n      border: none;\\n  }\\n  h1 {\\n      font-size: 42px;\\n      font-weight: 400;\\n      color: #400090;\\n  }\\n  p {\\n      color: #1A1A1A;\\n  }\\n  #message-1 {\\n      font-weight: bold;\\n      margin: 0;\\n  }\\n  #message-2 {\\n      display: inline-block;\\n      *display: inline;\\n      zoom: 1;\\n      max-width: 17em;\\n      _width: 17em;\\n  }\\n  </style>\\n  <script>\\n   document.write(\\'<img src=\"//geo.yahoo.com/b?s=1197757129&t=\\'+new Date().getTime()+\\'&src=aws&err_url=\\'+encodeURIComponent(document.URL)+\\'&err=%<pssc>&test=\\'+encodeURIComponent(\\'%<{Bucket}cqh[:200]>\\')+\\'\" width=\"0px\" height=\"0px\"/>\\');var beacon = new Image();beacon.src=\"//bcn.fp.yahoo.com/p?s=1197757129&t=\"+new Date().getTime()+\"&src=aws&err_url=\"+encodeURIComponent(document.URL)+\"&err=%<pssc>&test=\"+encodeURIComponent(\\'%<{Bucket}cqh[:200]>\\');\\n  </script>\\n </head>\\n <body>\\n  <!-- status code : 404 -->\\n  <!-- Not Found on Server -->\\n  <table>\\n   <tbody>\\n    <tr>\\n     <td>\\n      <img alt=\"Yahoo Logo\" src=\"https://s.yimg.com/rz/p/yahoo_frontpage_en-US_s_f_p_205x58_frontpage.png\"/>\\n      <h1 style=\"margin-top:20px;\">\\n       Will be right back...\\n      </h1>\\n      <p id=\"message-1\">\\n       Thank you for your patience.\\n      </p>\\n      <p id=\"message-2\">\\n       Our engineers are working quickly to resolve the issue.\\n      </p>\\n     </td>\\n    </tr>\\n   </tbody>\\n  </table>\\n </body>\\n</html>'"
      ]
     },
     "execution_count": 4,
     "metadata": {},
     "output_type": "execute_result"
    },
    {
     "name": "stdout",
     "output_type": "stream",
     "text": [
      "None\n"
     ]
    },
    {
     "ename": "AttributeError",
     "evalue": "'NoneType' object has no attribute 'strings'",
     "output_type": "error",
     "traceback": [
      "\u001b[0;31m---------------------------------------------------------------------------\u001b[0m",
      "\u001b[0;31mAttributeError\u001b[0m                            Traceback (most recent call last)",
      "\u001b[0;32m<ipython-input-4-ea00720fbdff>\u001b[0m in \u001b[0;36m<module>\u001b[0;34m\u001b[0m\n\u001b[1;32m      6\u001b[0m \u001b[0mcompany\u001b[0m \u001b[0;34m=\u001b[0m \u001b[0mcom_soup\u001b[0m\u001b[0;34m.\u001b[0m\u001b[0mfind\u001b[0m\u001b[0;34m(\u001b[0m\u001b[0;34m\"div\"\u001b[0m\u001b[0;34m,\u001b[0m \u001b[0mattrs\u001b[0m \u001b[0;34m=\u001b[0m \u001b[0;34m{\u001b[0m\u001b[0;34m'class'\u001b[0m\u001b[0;34m:\u001b[0m\u001b[0;34m\"asset-profile-container\"\u001b[0m\u001b[0;34m}\u001b[0m\u001b[0;34m)\u001b[0m\u001b[0;34m\u001b[0m\u001b[0;34m\u001b[0m\u001b[0m\n\u001b[1;32m      7\u001b[0m \u001b[0mprint\u001b[0m\u001b[0;34m(\u001b[0m\u001b[0mcompany\u001b[0m\u001b[0;34m)\u001b[0m\u001b[0;34m\u001b[0m\u001b[0;34m\u001b[0m\u001b[0m\n\u001b[0;32m----> 8\u001b[0;31m \u001b[0;32mfor\u001b[0m \u001b[0mi\u001b[0m\u001b[0;34m,\u001b[0m\u001b[0mstring\u001b[0m \u001b[0;32min\u001b[0m \u001b[0menumerate\u001b[0m\u001b[0;34m(\u001b[0m\u001b[0mcompany\u001b[0m\u001b[0;34m.\u001b[0m\u001b[0mstrings\u001b[0m\u001b[0;34m)\u001b[0m\u001b[0;34m:\u001b[0m\u001b[0;34m\u001b[0m\u001b[0;34m\u001b[0m\u001b[0m\n\u001b[0m\u001b[1;32m      9\u001b[0m     \u001b[0;32mif\u001b[0m \u001b[0mi\u001b[0m \u001b[0;34m==\u001b[0m \u001b[0;36m0\u001b[0m\u001b[0;34m:\u001b[0m\u001b[0;34m\u001b[0m\u001b[0;34m\u001b[0m\u001b[0m\n\u001b[1;32m     10\u001b[0m         \u001b[0mCompany_info\u001b[0m\u001b[0;34m[\u001b[0m\u001b[0;34m\"name\"\u001b[0m\u001b[0;34m]\u001b[0m \u001b[0;34m=\u001b[0m \u001b[0mstring\u001b[0m\u001b[0;34m\u001b[0m\u001b[0;34m\u001b[0m\u001b[0m\n",
      "\u001b[0;31mAttributeError\u001b[0m: 'NoneType' object has no attribute 'strings'"
     ]
    }
   ],
   "source": [
    "URL = \"https://finance.yahoo.com/quote/GOOG/profile?guccounter=1\"\n",
    "html_text = requests.get(URL).text\n",
    "com_soup = BeautifulSoup(html_text,'lxml')\n",
    "com_soup.prettify()\n",
    "Company_info = {}\n",
    "company = com_soup.find(\"div\", attrs = {'class':\"asset-profile-container\"})\n",
    "print(company)\n",
    "for i,string in enumerate(company.strings):\n",
    "    if i == 0:\n",
    "        Company_info[\"name\"] = string\n",
    "        continue\n",
    "    if i == 1:\n",
    "        Company_info[\"address\"] = string\n",
    "        continue\n",
    "    if i < 4:\n",
    "        Company_info[\"address\"] += \", \" + string\n",
    "    if i == 4:\n",
    "        Company_info[\"telephone_no\"] = string\n",
    "    if i == 5:\n",
    "        Company_info[\"website\"] = string\n",
    "    if i == 8:\n",
    "        Company_info[\"Sector(s)\"] = string\n",
    "    if i == 11:\n",
    "        Company_info[\"Industry\"] = string\n",
    "    if i == 14:\n",
    "        Company_info[\"full_time_employees\"] = string\n",
    "        \n",
    "    \n",
    "Company_info"
   ]
  },
  {
   "cell_type": "markdown",
   "metadata": {},
   "source": [
    "## Company Description"
   ]
  },
  {
   "cell_type": "code",
   "execution_count": null,
   "metadata": {},
   "outputs": [],
   "source": [
    "URL = f\"https://finance.yahoo.com/quote/{NASDAQ_Symbol}/profile\"\n",
    "html_text = requests.get(URL).text\n",
    "des_soup = BeautifulSoup(html_text,'lxml')\n",
    "\n",
    "Description = des_soup.find('p',class_=\"Mt(15px) Lh(1.6)\").text\n",
    "\n",
    "Description"
   ]
  },
  {
   "cell_type": "markdown",
   "metadata": {},
   "source": [
    "## Stock Price Chart"
   ]
  },
  {
   "cell_type": "code",
   "execution_count": 4,
   "metadata": {},
   "outputs": [
    {
     "data": {
      "text/plain": [
       "[<matplotlib.lines.Line2D at 0x7fa963ba1a30>]"
      ]
     },
     "execution_count": 4,
     "metadata": {},
     "output_type": "execute_result"
    },
    {
     "data": {
      "image/png": "[encoded data removed]",
      "text/plain": [
       "<Figure size 432x288 with 1 Axes>"
      ]
     },
     "metadata": {
      "needs_background": "light"
     },
     "output_type": "display_data"
    }
   ],
   "source": [
    "\n",
    "#NASDAQ_Symbol = input(\"Enter Company Symbol\")\n",
    "URL = f\"https://finance.yahoo.com/quote/{NASDAQ_Symbol}/history\"\n",
    "#URL = f\"https://finance.yahoo.com/quote/GOOG/history\"\n",
    "html_text = requests.get(URL).text\n",
    "soup = BeautifulSoup(html_text,'lxml')\n",
    "rows = soup.find_all('tr',class_=\"BdT Bdc($seperatorColor) Ta(end) Fz(s) Whs(nw)\")\n",
    "\n",
    "Adj_Close = []\n",
    "\n",
    "reactid = 63\n",
    "for row in rows:\n",
    "    close_val = row.find('span', attrs = {'data-reactid':reactid})\n",
    "    if close_val == None:\n",
    "        continue\n",
    "    Adj_Close.append(ffloat(close_val.text))\n",
    "    reactid += 15\n",
    "\n",
    "plt.plot(Adj_Close[::-1])\n",
    "plt.show()"
   ]
  },
  {
   "cell_type": "markdown",
   "metadata": {},
   "source": [
    "## Company's Financial"
   ]
  },
  {
   "cell_type": "code",
   "execution_count": null,
   "metadata": {},
   "outputs": [],
   "source": [
    "## Income Statement\n",
    "URL = f\"https://finance.yahoo.com/quote/{NASDAQ_Symbol}/financials\"\n",
    "html_text = requests.get(URL).text\n",
    "soup = BeautifulSoup(html_text,'lxml')\n",
    "Table = soup.find('div',class_=\"M(0) Whs(n) BdEnd Bdc($seperatorColor) D(itb)\")\n",
    "\n",
    "\n",
    "## Header Information\n",
    "Header = Table.find('div',attrs = {\"class\":\"D(tbhg)\",\"data-reactid\":\"36\"})\n",
    "span_tags = Header.find_all('span')\n",
    "\n",
    "Income_Statement = {}\n",
    "\n",
    "Income_Statement[span_tags[0].text] = [span_tags[i].text for i in range(1,6)]\n",
    "\n",
    "\n",
    "Breakdown_spans = soup.find_all('span',class_=\"Va(m)\")\n",
    "\n",
    "#Col Data\n",
    "fin_cols = Table.find_all('div',attrs = {\"data-test\":\"fin-col\"})\n",
    "\n",
    "column = []\n",
    "\n",
    "for i,fin_col in enumerate(fin_cols):\n",
    "    if i%5 == 0:\n",
    "        column.append([fin_col.text])\n",
    "    column[-1].append(fin_col.text)\n",
    "    \n",
    "\n",
    "for i,span_tag in enumerate(Breakdown_spans):\n",
    "    Income_Statement[span_tag.text] = column[i]\n",
    "\n",
    "Income_Statement"
   ]
  },
  {
   "cell_type": "code",
   "execution_count": null,
   "metadata": {},
   "outputs": [],
   "source": [
    "## Balance Sheet\n",
    "URL = f\"https://finance.yahoo.com/quote/{NASDAQ_Symbol}/balance-sheet\"\n",
    "html_text = requests.get(URL).text\n",
    "soup = BeautifulSoup(html_text,'lxml')\n",
    "\n",
    "Balance_Sheet_Table = soup.find('div',class_=\"M(0) Whs(n) BdEnd Bdc($seperatorColor) D(itb)\")\n",
    "BS_span_tags = Balance_Sheet_Table.find_all('span')\n",
    "\n",
    "\n",
    "Balance_Sheet = {}\n",
    "for i, span_tag in enumerate(BS_span_tags):\n",
    "        if i%5 == 0:\n",
    "            key = span_tag.text \n",
    "            Balance_Sheet[key] = []\n",
    "            continue\n",
    "        Balance_Sheet[key].append(span_tag.text)\n",
    "\n",
    "Balance_Sheet"
   ]
  },
  {
   "cell_type": "markdown",
   "metadata": {},
   "source": [
    "## Analysis Tables"
   ]
  },
  {
   "cell_type": "code",
   "execution_count": null,
   "metadata": {},
   "outputs": [],
   "source": [
    "\n",
    "URL = f\"https://finance.yahoo.com/quote/{NASDAQ_Symbol}/analysis\"\n",
    "html_text = requests.get(URL).text\n",
    "Analysis = BeautifulSoup(html_text,'lxml')\n",
    "\n",
    "Tables = Analysis.find_all('table',class_=\"W(100%) M(0) BdB Bdc($seperatorColor) Mb(25px)\")\n",
    "#Tables\n",
    "\n",
    "\n",
    "\n",
    "Tables_lst = []\n",
    "\n",
    "for i,Table_info in enumerate(Tables):\n",
    "    Table = {}\n",
    "    \n",
    "    spans_finds = Table_info.find_all('span') \n",
    "    \n",
    "    if i == 2:\n",
    "        Table[spans_finds[0].text] = [spans_finds[1].text,spans_finds[2].text,\n",
    "                                        spans_finds[3].text,spans_finds[4].text]\n",
    "\n",
    "        spans_finds = spans_finds[5:]\n",
    "\n",
    "        for i, span_tag in enumerate(spans_finds):\n",
    "            if i%5 == 0:\n",
    "                span_key = span_tag.text \n",
    "                Table[span_key] = []\n",
    "                continue\n",
    "            Table[span_key].append(span_tag.text)\n",
    "        \n",
    "        Tables_lst.append(Table)\n",
    "        \n",
    "        continue\n",
    "        \n",
    "    if i == 5:\n",
    "        th_finds = Tables[5].find_all('th') \n",
    "        td_finds = Tables[5].find_all('td') \n",
    "\n",
    "        table_finds = th_finds + td_finds\n",
    "\n",
    "        for i, tag in enumerate(table_finds):\n",
    "            if i%5 == 0:\n",
    "                key = tag.text \n",
    "                Table[key] = []\n",
    "                continue\n",
    "            Table[key].append(tag.text)\n",
    "        \n",
    "        Tables_lst.append(Table)\n",
    "        continue\n",
    "        \n",
    "    \n",
    "    Table[spans_finds[0].text] = [spans_finds[1].text,spans_finds[4].text,\n",
    "                                      spans_finds[7].text,spans_finds[9].text]\n",
    "\n",
    "    spans_finds = spans_finds[11:]\n",
    "\n",
    "    for i, span_tag in enumerate(spans_finds):\n",
    "        if i%5 == 0:\n",
    "            span_key = span_tag.text \n",
    "            Table[span_key] = []\n",
    "            continue\n",
    "        Table[span_key].append(span_tag.text)\n",
    "     \n",
    "    Tables_lst.append(Table)\n",
    "    \n",
    "\n",
    "    \n",
    "Tables_lst"
   ]
  },
  {
   "cell_type": "code",
   "execution_count": null,
   "metadata": {},
   "outputs": [],
   "source": []
  },
  {
   "cell_type": "code",
   "execution_count": null,
   "metadata": {},
   "outputs": [],
   "source": []
  }
 ],
 "metadata": {
  "interpreter": {
   "hash": "916dbcbb3f70747c44a77c7bcd40155683ae19c65e1c03b4aa3499c5328201f1"
  },
  "kernelspec": {
   "display_name": "Python 3",
   "language": "python",
   "name": "python3"
  },
  "language_info": {
   "codemirror_mode": {
    "name": "ipython",
    "version": 3
   },
   "file_extension": ".py",
   "mimetype": "text/x-python",
   "name": "python",
   "nbconvert_exporter": "python",
   "pygments_lexer": "ipython3",
   "version": "3.8.5"
  }
 },
 "nbformat": 4,
 "nbformat_minor": 4
}
