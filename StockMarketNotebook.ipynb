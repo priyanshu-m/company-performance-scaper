{
 "cells": [
  {
   "cell_type": "code",
   "execution_count": 142,
   "metadata": {},
   "outputs": [],
   "source": [
    "import numpy as np \n",
    "import pandas as pd \n",
    "import requests\n",
    "from bs4 import BeautifulSoup\n",
    "import matplotlib.pyplot as plt\n",
    "import seaborn as sns\n",
    "import json\n",
    "from IPython.core.display import HTML\n",
    "from fastnumbers import isfloat \n",
    "from fastnumbers import fast_float\n",
    "from multiprocessing.dummy import Pool as ThreadPool \n",
    "\n",
    "\n",
    "sns.set_style('whitegrid')\n",
    "%matplotlib inline\n",
    "from IPython.core.interactiveshell import InteractiveShell\n",
    "InteractiveShell.ast_node_interactivity = \"all\""
   ]
  },
  {
   "cell_type": "markdown",
   "metadata": {},
   "source": [
    "Utility Function for Data Type Conversions"
   ]
  },
  {
   "cell_type": "code",
   "execution_count": 143,
   "metadata": {},
   "outputs": [],
   "source": [
    "def ffloat(string):\n",
    "    if string is None:\n",
    "        return np.nan\n",
    "    if type(string) == float or type(string) == np.float64:\n",
    "        return string\n",
    "    if type(string)==int or type(string)==np.int64:\n",
    "        return string\n",
    "    \n",
    "    return fast_float(string.split(\" \")[0].replace(',','').replace('%',''),default=np.nan)"
   ]
  },
  {
   "cell_type": "code",
   "execution_count": 144,
   "metadata": {},
   "outputs": [],
   "source": [
    "def ffloat_list(string_list):\n",
    "    return list(map(ffloat,string_list))"
   ]
  },
  {
   "cell_type": "code",
   "execution_count": 145,
   "metadata": {},
   "outputs": [],
   "source": [
    "def remove_multiple_spaces(string):\n",
    "    if type(string) == str:\n",
    "        return ' '.join(string.split())\n",
    "    return string"
   ]
  },
  {
   "cell_type": "code",
   "execution_count": 146,
   "metadata": {},
   "outputs": [
    {
     "name": "stdin",
     "output_type": "stream",
     "text": [
      "Enter Company Symbol WFC\n"
     ]
    }
   ],
   "source": [
    "## User Input for NASDAQ_Symbol\n",
    "\n",
    "NASDAQ_Symbol = input(\"Enter Company Symbol\")\n",
    "response = requests.get(f\"https://finance.yahoo.com/quote/{NASDAQ_Symbol}\", timeout=240)"
   ]
  },
  {
   "cell_type": "markdown",
   "metadata": {},
   "source": [
    "## Company Address and Website"
   ]
  },
  {
   "cell_type": "code",
   "execution_count": 147,
   "metadata": {},
   "outputs": [
    {
     "data": {
      "text/plain": [
       "{'name': 'Wells Fargo & Company',\n",
       " 'address': '420 Montgomery Street, San Francisco, CA 94104, United States',\n",
       " 'telephone_no': '866 249 3302',\n",
       " 'website': 'http://www.wellsfargo.com',\n",
       " 'Sector(s)': 'Financial Services',\n",
       " 'Industry': 'Banks—Diversified',\n",
       " 'full_time_employees': '264,513'}"
      ]
     },
     "execution_count": 147,
     "metadata": {},
     "output_type": "execute_result"
    }
   ],
   "source": [
    "URL = f\"https://finance.yahoo.com/quote/{NASDAQ_Symbol}/profile\"\n",
    "html_text = requests.get(URL).text\n",
    "com_soup = BeautifulSoup(html_text,'lxml')\n",
    "\n",
    "Company_info = {}\n",
    "company = com_soup.find(\"div\", class_=\"asset-profile-container\")\n",
    "\n",
    "for i,string in enumerate(company.strings):\n",
    "    if i == 0:\n",
    "        Company_info[\"name\"] = string\n",
    "        continue\n",
    "    if i == 1:\n",
    "        Company_info[\"address\"] = string\n",
    "        continue\n",
    "    if i < 4:\n",
    "        Company_info[\"address\"] += \", \" + string\n",
    "    if i == 4:\n",
    "        Company_info[\"telephone_no\"] = string\n",
    "    if i == 5:\n",
    "        Company_info[\"website\"] = string\n",
    "    if i == 8:\n",
    "        Company_info[\"Sector(s)\"] = string\n",
    "    if i == 11:\n",
    "        Company_info[\"Industry\"] = string\n",
    "    if i == 14:\n",
    "        Company_info[\"full_time_employees\"] = string\n",
    "        \n",
    "    \n",
    "Company_info"
   ]
  },
  {
   "cell_type": "markdown",
   "metadata": {},
   "source": [
    "## Company Description"
   ]
  },
  {
   "cell_type": "code",
   "execution_count": 148,
   "metadata": {},
   "outputs": [
    {
     "data": {
      "text/plain": [
       "\"Wells Fargo & Company (NYSE: WFC) is a leading financial services company that has approximately $1.9 trillion in assets and proudly serves one in three U.S. households and more than 10% of all middle market companies in the U.S. We provide a diversified set of banking, investment and mortgage products and services, as well as consumer and commercial finance, through our four reportable operating segments: Consumer Banking and Lending, Commercial Banking, Corporate and Investment Banking, and Wealth and Investment Management. Wells Fargo ranked No. 30 on Fortune's 2020 rankings of America's largest corporations. In the communities we serve, the company focuses its social impact on building a sustainable, inclusive future for all by supporting housing affordability, small business growth, financial health and a low-carbon economy.\""
      ]
     },
     "execution_count": 148,
     "metadata": {},
     "output_type": "execute_result"
    }
   ],
   "source": [
    "URL = f\"https://finance.yahoo.com/quote/{NASDAQ_Symbol}/profile\"\n",
    "html_text = requests.get(URL).text\n",
    "des_soup = BeautifulSoup(html_text,'lxml')\n",
    "\n",
    "Description = des_soup.find('p',class_=\"Mt(15px) Lh(1.6)\").text\n",
    "\n",
    "Description"
   ]
  },
  {
   "cell_type": "markdown",
   "metadata": {},
   "source": [
    "## Stock Price Chart"
   ]
  },
  {
   "cell_type": "code",
   "execution_count": 152,
   "metadata": {},
   "outputs": [
    {
     "data": {
      "text/plain": [
       "[<matplotlib.lines.Line2D at 0x7fd26f974f10>]"
      ]
     },
     "execution_count": 152,
     "metadata": {},
     "output_type": "execute_result"
    },
    {
     "data": {
      "image/png": "[encoded data removed]",
      "text/plain": [
       "<Figure size 432x288 with 1 Axes>"
      ]
     },
     "metadata": {
      "needs_background": "light"
     },
     "output_type": "display_data"
    }
   ],
   "source": [
    "\n",
    "#NASDAQ_Symbol = input(\"Enter Company Symbol\")\n",
    "URL = f\"https://finance.yahoo.com/quote/{NASDAQ_Symbol}/history\"\n",
    "#URL = f\"https://finance.yahoo.com/quote/GOOG/history\"\n",
    "html_text = requests.get(URL).text\n",
    "soup = BeautifulSoup(html_text,'lxml')\n",
    "rows = soup.find_all('tr',class_=\"BdT Bdc($seperatorColor) Ta(end) Fz(s) Whs(nw)\")\n",
    "\n",
    "Adj_Close = []\n",
    "\n",
    "reactid = 63\n",
    "for row in rows:\n",
    "    close_val = row.find('span', attrs = {'data-reactid':reactid})\n",
    "    if close_val == None:\n",
    "        continue\n",
    "    Adj_Close.append(ffloat(close_val.text))\n",
    "    reactid += 15\n",
    "\n",
    "plt.plot(Adj_Close[::-1])\n",
    "plt.show()"
   ]
  },
  {
   "cell_type": "markdown",
   "metadata": {},
   "source": [
    "## Company's Financial"
   ]
  },
  {
   "cell_type": "code",
   "execution_count": 153,
   "metadata": {},
   "outputs": [
    {
     "data": {
      "text/plain": [
       "{'Breakdown': ['ttm', '12/31/2020', '12/31/2019', '12/31/2018', '12/31/2017'],\n",
       " 'Total Revenue': ['72,686,000',\n",
       "  '72,686,000',\n",
       "  '72,340,000',\n",
       "  '85,063,000',\n",
       "  '86,408,000',\n",
       "  '87,121,000'],\n",
       " 'Credit Losses Provision': ['-9,076,000',\n",
       "  '-9,076,000',\n",
       "  '-14,129,000',\n",
       "  '-2,687,000',\n",
       "  '-1,744,000',\n",
       "  '-2,528,000'],\n",
       " 'Non Interest Expense': ['57,059,000',\n",
       "  '57,059,000',\n",
       "  '56,131,000',\n",
       "  '58,178,000',\n",
       "  '56,126,000',\n",
       "  '58,484,000'],\n",
       " 'Income from Associates & Other Participating Interests': ['-',\n",
       "  '-',\n",
       "  '-',\n",
       "  '-',\n",
       "  '1,515,000',\n",
       "  '1,268,000'],\n",
       " 'Special Income Charges': ['-1,512,000',\n",
       "  '-1,512,000',\n",
       "  '-1,499,000',\n",
       "  '-',\n",
       "  '-',\n",
       "  '-'],\n",
       " 'Other Non Operating Income Expenses': ['-',\n",
       "  '-',\n",
       "  '-',\n",
       "  '-4,321,000',\n",
       "  '-',\n",
       "  '-'],\n",
       " 'Pretax Income': ['5,039,000',\n",
       "  '5,039,000',\n",
       "  '581,000',\n",
       "  '24,198,000',\n",
       "  '28,538,000',\n",
       "  '27,377,000'],\n",
       " 'Tax Provision': ['-2,838,000',\n",
       "  '-2,838,000',\n",
       "  '-3,005,000',\n",
       "  '4,157,000',\n",
       "  '5,662,000',\n",
       "  '4,917,000'],\n",
       " 'Net Income Common Stockholders': ['6,031,000',\n",
       "  '6,031,000',\n",
       "  '1,710,000',\n",
       "  '17,938,000',\n",
       "  '20,689,000',\n",
       "  '20,554,000'],\n",
       " 'Diluted NI Available to Com Stockholders': ['6,031,000',\n",
       "  '6,031,000',\n",
       "  '1,710,000',\n",
       "  '17,938,000',\n",
       "  '20,689,000',\n",
       "  '20,554,000'],\n",
       " 'Basic EPS': ['-', '-', '0.42', '4.08', '4.31', '4.14'],\n",
       " 'Diluted EPS': ['-', '-', '0.41', '4.05', '4.28', '4.10'],\n",
       " 'Basic Average Shares': ['-',\n",
       "  '-',\n",
       "  '4,118,000',\n",
       "  '4,393,100',\n",
       "  '4,799,700',\n",
       "  '4,964,600'],\n",
       " 'Diluted Average Shares': ['-',\n",
       "  '-',\n",
       "  '4,134,200',\n",
       "  '4,425,400',\n",
       "  '4,838,400',\n",
       "  '5,017,300'],\n",
       " 'Rent Expense Supplemental': ['-', '-', '1,022,000', '1,155,000', '-', '-'],\n",
       " 'INTEREST_INCOME_AFTER_PROVISION_FOR_LOAN_LOSS': ['28,245,000',\n",
       "  '28,245,000',\n",
       "  '25,706,000',\n",
       "  '44,544,000',\n",
       "  '48,251,000',\n",
       "  '47,029,000'],\n",
       " 'Net Income from Continuing & Discontinued Operation': ['7,390,000',\n",
       "  '7,390,000',\n",
       "  '3,301,000',\n",
       "  '19,549,000',\n",
       "  '22,393,000',\n",
       "  '22,183,000'],\n",
       " 'Normalized Income': ['8,297,200',\n",
       "  '8,297,200',\n",
       "  '4,395,270',\n",
       "  '19,549,000',\n",
       "  '22,393,000',\n",
       "  '22,183,000'],\n",
       " 'Reconciled Depreciation': ['9,105,000',\n",
       "  '9,105,000',\n",
       "  '8,736,000',\n",
       "  '7,075,000',\n",
       "  '5,593,000',\n",
       "  '5,406,000'],\n",
       " 'Net Income from Continuing Operation Net Minority Interest': ['7,390,000',\n",
       "  '7,390,000',\n",
       "  '3,301,000',\n",
       "  '19,549,000',\n",
       "  '22,393,000',\n",
       "  '22,183,000'],\n",
       " 'Total Unusual Items Excluding Goodwill': ['-1,512,000',\n",
       "  '-1,512,000',\n",
       "  '-1,499,000',\n",
       "  '-',\n",
       "  '-',\n",
       "  '-'],\n",
       " 'Total Unusual Items': ['-1,512,000',\n",
       "  '-1,512,000',\n",
       "  '-1,499,000',\n",
       "  '-',\n",
       "  '-',\n",
       "  '-'],\n",
       " 'Tax Rate for Calcs': ['0', '0', '0', '0', '0', '0'],\n",
       " 'Tax Effect of Unusual Items': ['-604,800',\n",
       "  '-604,800',\n",
       "  '-404,730',\n",
       "  '0',\n",
       "  '0',\n",
       "  '0']}"
      ]
     },
     "execution_count": 153,
     "metadata": {},
     "output_type": "execute_result"
    }
   ],
   "source": [
    "## Income Statement\n",
    "URL = f\"https://finance.yahoo.com/quote/{NASDAQ_Symbol}/financials\"\n",
    "html_text = requests.get(URL).text\n",
    "soup = BeautifulSoup(html_text,'lxml')\n",
    "Table = soup.find('div',class_=\"M(0) Whs(n) BdEnd Bdc($seperatorColor) D(itb)\")\n",
    "\n",
    "\n",
    "## Header Information\n",
    "Header = Table.find('div',attrs = {\"class\":\"D(tbhg)\",\"data-reactid\":\"36\"})\n",
    "span_tags = Header.find_all('span')\n",
    "\n",
    "Income_Statement = {}\n",
    "\n",
    "Income_Statement[span_tags[0].text] = [span_tags[i].text for i in range(1,6)]\n",
    "\n",
    "\n",
    "Breakdown_spans = soup.find_all('span',class_=\"Va(m)\")\n",
    "\n",
    "#Col Data\n",
    "fin_cols = Table.find_all('div',attrs = {\"data-test\":\"fin-col\"})\n",
    "\n",
    "column = []\n",
    "\n",
    "for i,fin_col in enumerate(fin_cols):\n",
    "    if i%5 == 0:\n",
    "        column.append([fin_col.text])\n",
    "    column[-1].append(fin_col.text)\n",
    "    \n",
    "\n",
    "for i,span_tag in enumerate(Breakdown_spans):\n",
    "    Income_Statement[span_tag.text] = column[i]\n",
    "\n",
    "Income_Statement"
   ]
  },
  {
   "cell_type": "code",
   "execution_count": 154,
   "metadata": {},
   "outputs": [
    {
     "data": {
      "text/plain": [
       "{'Breakdown': ['12/31/2020', '12/31/2019', '12/31/2018', '12/31/2017'],\n",
       " 'Total Assets': ['1,955,163,000',\n",
       "  '1,927,555,000',\n",
       "  '1,895,883,000',\n",
       "  '1,951,757,000'],\n",
       " 'Total Liabilities Net Minority Interest': ['1,769,243,000',\n",
       "  '1,739,571,000',\n",
       "  '1,698,817,000',\n",
       "  '1,743,678,000'],\n",
       " 'Total Equity Gross Minority Interest': ['185,920,000',\n",
       "  '187,984,000',\n",
       "  '197,066,000',\n",
       "  '208,079,000'],\n",
       " 'Total Capitalization': ['397,809,000',\n",
       "  '415,305,000',\n",
       "  '425,174,000',\n",
       "  '431,917,000'],\n",
       " 'Preferred Stock Equity': ['21,136,000',\n",
       "  '21,549,000',\n",
       "  '23,214,000',\n",
       "  '25,358,000'],\n",
       " 'Common Stock Equity': ['163,751,000',\n",
       "  '165,597,000',\n",
       "  '172,952,000',\n",
       "  '181,578,000'],\n",
       " 'Capital Lease Obligations': ['28,000', '32,000', '36,000', '39,000'],\n",
       " 'Net Tangible Assets': ['150,730,000',\n",
       "  '147,386,000',\n",
       "  '153,111,000',\n",
       "  '163,690,000'],\n",
       " 'Invested Capital': ['389,310,000',\n",
       "  '405,865,000',\n",
       "  '415,317,000',\n",
       "  '421,131,000'],\n",
       " 'Tangible Book Value': ['129,594,000',\n",
       "  '125,837,000',\n",
       "  '129,897,000',\n",
       "  '138,332,000'],\n",
       " 'Total Debt': ['225,587,000', '240,300,000', '242,401,000', '239,592,000'],\n",
       " 'Net Debt': ['7,337,000', '99,018,000', '69,078,000', '216,186,000'],\n",
       " 'Share Issued': ['5,481,811', '5,481,811', '5,481,811', '5,481,811'],\n",
       " 'Ordinary Shares Number': ['4,144,012',\n",
       "  '4,134,426',\n",
       "  '4,581,254',\n",
       "  '4,891,617'],\n",
       " 'Preferred Shares Number': ['381,765', '373,265', '373,322', '459,280'],\n",
       " 'Treasury Shares Number': ['1,337,800', '1,347,386', '900,558', '590,195']}"
      ]
     },
     "execution_count": 154,
     "metadata": {},
     "output_type": "execute_result"
    }
   ],
   "source": [
    "## Balance Sheet\n",
    "URL = f\"https://finance.yahoo.com/quote/{NASDAQ_Symbol}/balance-sheet\"\n",
    "html_text = requests.get(URL).text\n",
    "soup = BeautifulSoup(html_text,'lxml')\n",
    "\n",
    "Balance_Sheet_Table = soup.find('div',class_=\"M(0) Whs(n) BdEnd Bdc($seperatorColor) D(itb)\")\n",
    "BS_span_tags = Balance_Sheet_Table.find_all('span')\n",
    "\n",
    "\n",
    "Balance_Sheet = {}\n",
    "for i, span_tag in enumerate(BS_span_tags):\n",
    "        if i%5 == 0:\n",
    "            key = span_tag.text \n",
    "            Balance_Sheet[key] = []\n",
    "            continue\n",
    "        Balance_Sheet[key].append(span_tag.text)\n",
    "\n",
    "Balance_Sheet"
   ]
  },
  {
   "cell_type": "markdown",
   "metadata": {},
   "source": [
    "## Analysis Tables"
   ]
  },
  {
   "cell_type": "code",
   "execution_count": 155,
   "metadata": {},
   "outputs": [
    {
     "data": {
      "text/plain": [
       "[{'Earnings Estimate': ['Current Qtr. (Jun 2021)',\n",
       "   'Next Qtr. (Sep 2021)',\n",
       "   'Current Year (2021)',\n",
       "   'Next Year (2022)'],\n",
       "  'No. of Analysts': ['21', '21', '24', '23'],\n",
       "  'Avg. Estimate': ['0.93', '0.97', '3.81', '3.54'],\n",
       "  'Low Estimate': ['0.76', '0.66', '3', '2.75'],\n",
       "  'High Estimate': ['1.15', '1.28', '4.88', '4.34'],\n",
       "  'Year Ago EPS': ['-0.66', '0.42', '0.41', '3.81']},\n",
       " {'Revenue Estimate': ['Current Qtr. (Jun 2021)',\n",
       "   'Next Qtr. (Sep 2021)',\n",
       "   'Current Year (2021)',\n",
       "   'Next Year (2022)'],\n",
       "  'No. of Analysts': ['14', '13', '15', '14'],\n",
       "  'Avg. Estimate': ['17.78B', '18.01B', '71.06B', '70.19B'],\n",
       "  'Low Estimate': ['17.24B', '17.27B', '68.16B', '68.78B'],\n",
       "  'High Estimate': ['18.73B', '19.25B', '73.4B', '71.85B'],\n",
       "  'Year Ago Sales': ['17.84B', '17.97B', '72.34B', '71.06B'],\n",
       "  'Sales Growth (year/est)': ['-0.30%', '0.20%', '-1.80%', '-1.20%']},\n",
       " {'Earnings History': ['6/29/2020', '9/29/2020', '12/30/2020', '3/30/2021'],\n",
       "  'EPS Est.': ['-0.2', '0.45', '0.6', '0.7'],\n",
       "  'EPS Actual': ['-0.66', '0.42', '0.64', '1.05'],\n",
       "  'Difference': ['-0.46', '-0.03', '0.04', '0.35'],\n",
       "  'Surprise %': ['-230.00%', '-6.70%', '6.70%', '50.00%']},\n",
       " {'EPS Trend': ['Current Qtr. (Jun 2021)',\n",
       "   'Next Qtr. (Sep 2021)',\n",
       "   'Current Year (2021)',\n",
       "   'Next Year (2022)'],\n",
       "  'Current Estimate': ['0.93', '0.97', '3.81', '3.54'],\n",
       "  '7 Days Ago': ['0.93', '0.97', '3.81', '3.54'],\n",
       "  '30 Days Ago': ['0.91', '0.97', '3.79', '3.54'],\n",
       "  '60 Days Ago': ['0.9', '0.96', '3.78', '3.57'],\n",
       "  '90 Days Ago': ['0.65', '0.68', '2.63', '3.24']},\n",
       " {'EPS Revisions': ['Current Qtr. (Jun 2021)',\n",
       "   'Next Qtr. (Sep 2021)',\n",
       "   'Current Year (2021)',\n",
       "   'Next Year (2022)'],\n",
       "  'Up Last 7 Days': ['N/A', '1', '1', '1'],\n",
       "  'Up Last 30 Days': ['4', '4', '4', '4'],\n",
       "  'Down Last 7 Days': ['N/A', 'N/A', 'N/A', 'N/A'],\n",
       "  'Down Last 30 Days': ['N/A', 'N/A', 'N/A', 'N/A']},\n",
       " {'Growth Estimates': ['WFC', 'Industry', 'Sector(s)', 'S&P 500'],\n",
       "  'Current Qtr.': ['240.90%', 'N/A', 'N/A', 'N/A'],\n",
       "  'Next Qtr.': ['131.00%', 'N/A', 'N/A', 'N/A'],\n",
       "  'Current Year': ['829.30%', 'N/A', 'N/A', 'N/A'],\n",
       "  'Next Year': ['-7.10%', 'N/A', 'N/A', 'N/A'],\n",
       "  'Next 5 Years (per annum)': ['117.39%', 'N/A', 'N/A', 'N/A'],\n",
       "  'Past 5 Years (per annum)': ['2.23%', 'N/A', 'N/A', 'N/A']}]"
      ]
     },
     "execution_count": 155,
     "metadata": {},
     "output_type": "execute_result"
    }
   ],
   "source": [
    "\n",
    "URL = f\"https://finance.yahoo.com/quote/{NASDAQ_Symbol}/analysis\"\n",
    "html_text = requests.get(URL).text\n",
    "Analysis = BeautifulSoup(html_text,'lxml')\n",
    "\n",
    "Tables = Analysis.find_all('table',class_=\"W(100%) M(0) BdB Bdc($seperatorColor) Mb(25px)\")\n",
    "#Tables\n",
    "\n",
    "\n",
    "\n",
    "Tables_lst = []\n",
    "\n",
    "for i,Table_info in enumerate(Tables):\n",
    "    Table = {}\n",
    "    \n",
    "    spans_finds = Table_info.find_all('span') \n",
    "    \n",
    "    if i == 2:\n",
    "        Table[spans_finds[0].text] = [spans_finds[1].text,spans_finds[2].text,\n",
    "                                        spans_finds[3].text,spans_finds[4].text]\n",
    "\n",
    "        spans_finds = spans_finds[5:]\n",
    "\n",
    "        for i, span_tag in enumerate(spans_finds):\n",
    "            if i%5 == 0:\n",
    "                span_key = span_tag.text \n",
    "                Table[span_key] = []\n",
    "                continue\n",
    "            Table[span_key].append(span_tag.text)\n",
    "        \n",
    "        Tables_lst.append(Table)\n",
    "        \n",
    "        continue\n",
    "        \n",
    "    if i == 5:\n",
    "        th_finds = Tables[5].find_all('th') \n",
    "        td_finds = Tables[5].find_all('td') \n",
    "\n",
    "        table_finds = th_finds + td_finds\n",
    "\n",
    "        for i, tag in enumerate(table_finds):\n",
    "            if i%5 == 0:\n",
    "                key = tag.text \n",
    "                Table[key] = []\n",
    "                continue\n",
    "            Table[key].append(tag.text)\n",
    "        \n",
    "        Tables_lst.append(Table)\n",
    "        continue\n",
    "        \n",
    "    \n",
    "    Table[spans_finds[0].text] = [spans_finds[1].text,spans_finds[4].text,\n",
    "                                      spans_finds[7].text,spans_finds[9].text]\n",
    "\n",
    "    spans_finds = spans_finds[11:]\n",
    "\n",
    "    for i, span_tag in enumerate(spans_finds):\n",
    "        if i%5 == 0:\n",
    "            span_key = span_tag.text \n",
    "            Table[span_key] = []\n",
    "            continue\n",
    "        Table[span_key].append(span_tag.text)\n",
    "     \n",
    "    Tables_lst.append(Table)\n",
    "    \n",
    "\n",
    "    \n",
    "Tables_lst"
   ]
  },
  {
   "cell_type": "code",
   "execution_count": null,
   "metadata": {},
   "outputs": [],
   "source": []
  },
  {
   "cell_type": "code",
   "execution_count": null,
   "metadata": {},
   "outputs": [],
   "source": []
  }
 ],
 "metadata": {
  "interpreter": {
   "hash": "916dbcbb3f70747c44a77c7bcd40155683ae19c65e1c03b4aa3499c5328201f1"
  },
  "kernelspec": {
   "display_name": "Python 3",
   "language": "python",
   "name": "python3"
  },
  "language_info": {
   "codemirror_mode": {
    "name": "ipython",
    "version": 3
   },
   "file_extension": ".py",
   "mimetype": "text/x-python",
   "name": "python",
   "nbconvert_exporter": "python",
   "pygments_lexer": "ipython3",
   "version": "3.8.5"
  }
 },
 "nbformat": 4,
 "nbformat_minor": 4
}
